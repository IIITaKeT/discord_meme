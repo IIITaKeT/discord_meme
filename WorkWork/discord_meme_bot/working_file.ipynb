{
 "cells": [
  {
   "cell_type": "code",
   "execution_count": 62,
   "metadata": {},
   "outputs": [
    {
     "data": {
      "text/plain": [
       "'http://lefunny.net/wp-content/uploads/2013/02/Umad-bro.jpg'"
      ]
     },
     "execution_count": 62,
     "metadata": {},
     "output_type": "execute_result"
    }
   ],
   "source": [
    "import re\n",
    "import requests\n",
    "from bs4 import BeautifulSoup\n",
    "from fake_useragent import UserAgent\n",
    "import feedparser\n",
    "from random import randint\n",
    "\n",
    "headers = {'User-Agent': UserAgent().chrome}\n",
    "\n",
    "# 9GAG (don't work)\n",
    "# urls = {'NSFW' : 'https://9gag-rss.com/api/rss/get?code=9GAGNSFW&format=2',\n",
    "#         'DH' : 'https://9gag-rss.com/api/rss/get?code=9GAGDarkHumor&format=2',\n",
    "#         'FRESH' : 'https://9gag-rss.com/api/rss/get?code=9GAGFresh&format=2',\n",
    "#         'TREND' : 'https://9gag-rss.com/api/rss/get?code=9GAG&format=2'}\n",
    "\n",
    "# d = feedparser.parse(urls['NSFW'])\n",
    "# rnd = random.randint(0, len(d.entries)-1)\n",
    "\n",
    "# response = requests.get(d.entries[rnd].link, headers=headers)\n",
    "# soup = BeautifulSoup(response.text, \"html.parser\")\n",
    "# target_soup = soup.find_all('article', attrs={'class' : 'post-page'})\n",
    "\n",
    "# print(target_soup.find('img'))\n",
    "\n",
    "\n",
    "# me.me (work in progress)\n",
    "# url = 'https://me.me/rss/'\n",
    "# feed = feedparser.parse(url)\n",
    "# rnd = randint(0, len(feed.entries)-1)\n",
    "\n",
    "# link = re.findall(r'https.+png', feed.entries[rnd].content[0].value)[0]\n",
    "# link\n",
    "\n",
    "# lefunny.net (work in progress)\n",
    "url = 'https://lefunny.net/funny-memes/feed/'\n",
    "feed = feedparser.parse(url)\n",
    "rnd = randint(0, len(feed.entries)-1)\n",
    "\n",
    "link = re.findall(r'(?<=href=\\\")http.+[jpg|png]\\\">', feed.entries[rnd].content[0].value)[0]\n",
    "# feed.entries[rnd].content[0].value\n",
    "link[:-2]"
   ]
  },
  {
   "cell_type": "code",
   "execution_count": 59,
   "metadata": {},
   "outputs": [
    {
     "data": {
      "text/plain": [
       "'https://www.reddit.com/r/memes/comments/hstdwe/we_had_4_times_the_brains_but_4x0/\"> <img src=\"https://b.thumbs.redditmedia.com/koQY_291gVzlkpHuid92lKIrNWN1T0A2fie5ZhIjVbY.jpg\" alt=\"We had 4 times the brains, but 4x0\" title=\"We had 4 times the brains, but 4x0\" /> </a> </td><td> &#32; submitted by &#32; <a href=\"https://www.reddit.com/user/RandomMahmoud\"> /u/RandomMahmoud </a> <br/> <span><a href=\"https://i.redd.it/jxq6msiqaeb51.png\">'"
      ]
     },
     "execution_count": 59,
     "metadata": {},
     "output_type": "execute_result"
    }
   ],
   "source": [
    "#reddit\n",
    "url = 'https://www.reddit.com/r/memes/.rss?format=xml'\n",
    "feed = feedparser.parse(url)\n",
    "rnd = randint(0, len(feed.entries)-1)\n",
    "\n",
    "link = re.findall(r'(?<=href=\\\")http.+[jpg|png]\\\">', feed.entries[rnd].content[0].value)[0]\n",
    "# feed.entries[rnd].content[0].value\n",
    "link"
   ]
  },
  {
   "cell_type": "code",
   "execution_count": 61,
   "metadata": {},
   "outputs": [
    {
     "data": {
      "text/plain": [
       "'https://i.redd.it/f97i7e7r7m851.jpg'"
      ]
     },
     "execution_count": 61,
     "metadata": {},
     "output_type": "execute_result"
    }
   ],
   "source": [
    "response = requests.get('https://www.reddit.com/r/memes/', headers=headers)\n",
    "raw = re.findall(r'Memes the original since 2008.+Meme of the Week',response.text)\n",
    "links = re.findall(r'(?<=href=\\\")http.*?\\/(?=\\\")',raw[0])\n",
    "\n",
    "new_resp = requests.get(links[2], headers=headers)\n",
    "soup = BeautifulSoup(new_resp.text, \"html.parser\")\n",
    "target_soup = soup.find_all(attrs={'data-test-id' : \"post-content\"})[0].find_all('a')\n",
    "\n",
    "xxx = []\n",
    "for l in target_soup:\n",
    "    if l.get('href').find('jpg') == -1:\n",
    "        continue\n",
    "    else:\n",
    "        result = l.get('href')\n",
    "\n",
    "result"
   ]
  }
 ],
 "metadata": {
  "kernelspec": {
   "display_name": "Python 3",
   "language": "python",
   "name": "python3"
  },
  "language_info": {
   "codemirror_mode": {
    "name": "ipython",
    "version": 3
   },
   "file_extension": ".py",
   "mimetype": "text/x-python",
   "name": "python",
   "nbconvert_exporter": "python",
   "pygments_lexer": "ipython3",
   "version": "3.7.6"
  }
 },
 "nbformat": 4,
 "nbformat_minor": 4
}
